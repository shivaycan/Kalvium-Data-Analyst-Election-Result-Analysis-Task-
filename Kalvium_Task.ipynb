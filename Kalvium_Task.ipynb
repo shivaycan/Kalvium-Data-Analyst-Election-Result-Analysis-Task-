{
 "cells": [
  {
   "cell_type": "markdown",
   "id": "7b7dc008-22cc-48af-a4e2-7fb410d62e17",
   "metadata": {},
   "source": [
    "**Kalvium Election Result Analysis Task**\n",
    "*by Shivay Garg(RA2111026030110)*"
   ]
  },
  {
   "cell_type": "markdown",
   "id": "d1adf38c-6067-4fe9-8d9e-c38147f47946",
   "metadata": {},
   "source": [
    "# Importing Neccessary Libraries"
   ]
  },
  {
   "cell_type": "code",
   "execution_count": 11,
   "id": "8d8223d8-903f-4f34-8f6f-a43ef4240c81",
   "metadata": {},
   "outputs": [],
   "source": [
    "from bs4 import BeautifulSoup\n",
    "import requests\n",
    "import pandas as pd"
   ]
  },
  {
   "cell_type": "markdown",
   "id": "59edba79-19f3-4b8c-a27b-ce889d366ecc",
   "metadata": {},
   "source": [
    "# Fetching the data from the Election Commison website"
   ]
  },
  {
   "cell_type": "code",
   "execution_count": 2,
   "id": "57fde7e3-3f72-4737-ad39-687c79334a60",
   "metadata": {},
   "outputs": [],
   "source": [
    "url='https://results.eci.gov.in/PcResultGenJune2024/index.htm'\n",
    "page = requests.get(url)\n",
    "soup= BeautifulSoup(page.text,'html')"
   ]
  },
  {
   "cell_type": "code",
   "execution_count": 12,
   "id": "fa78c037-81e7-45a6-8fc2-dd30b69b8070",
   "metadata": {},
   "outputs": [],
   "source": [
    "table = soup.find('table', {'class': 'table'})"
   ]
  },
  {
   "cell_type": "code",
   "execution_count": 13,
   "id": "b70f7436-4b70-4fee-aaee-1d01502c5c5c",
   "metadata": {},
   "outputs": [],
   "source": [
    "table = soup.find('table', {'class': 'table'})"
   ]
  },
  {
   "cell_type": "code",
   "execution_count": 6,
   "id": "fd14d8bc-5e5d-4aa8-b5a2-7abc4888db11",
   "metadata": {},
   "outputs": [],
   "source": [
    "headers = [header.text.strip() for header in table.find_all('th')]"
   ]
  },
  {
   "cell_type": "code",
   "execution_count": 19,
   "id": "7ce99b19-b922-4511-af51-2766749c07f8",
   "metadata": {},
   "outputs": [],
   "source": [
    "rows = []\n",
    "for row in table.find_all('tr')[1:]:  # Skip the header row\n",
    "    cells = row.find_all('td')\n",
    "    rows.append([cell.text.strip() for cell in cells])\n"
   ]
  },
  {
   "cell_type": "code",
   "execution_count": 22,
   "id": "7156dd96-fe05-47e9-976b-52771dc8aeb8",
   "metadata": {},
   "outputs": [],
   "source": [
    "tfoot = table.find('tfoot')\n",
    "if tfoot:\n",
    "    total_row = tfoot.find('tr')\n",
    "    total_cells = total_row.find_all('th') if total_row else []\n",
    "    total_data = [cell.text.strip() for cell in total_cells]\n",
    "    if len(total_data) == len(headers):\n",
    "        rows.append(total_data)"
   ]
  },
  {
   "cell_type": "code",
   "execution_count": 20,
   "id": "37927533-e85a-4a99-9960-9b92ec537e50",
   "metadata": {
    "collapsed": true,
    "jupyter": {
     "outputs_hidden": true
    }
   },
   "outputs": [
    {
     "name": "stdout",
     "output_type": "stream",
     "text": [
      "[['Bharatiya Janata Party - BJP', '240', '0', '240'], ['Indian National Congress - INC', '99', '0', '99'], ['Samajwadi Party - SP', '37', '0', '37'], ['All India Trinamool Congress - AITC', '29', '0', '29'], ['Dravida Munnetra Kazhagam - DMK', '22', '0', '22'], ['Telugu Desam - TDP', '16', '0', '16'], ['Janata Dal  (United) - JD(U)', '12', '0', '12'], ['Shiv Sena (Uddhav Balasaheb Thackrey) - SHSUBT', '9', '0', '9'], ['Nationalist Congress Party – Sharadchandra Pawar - NCPSP', '8', '0', '8'], ['Shiv Sena - SHS', '7', '0', '7'], ['Lok Janshakti Party(Ram Vilas) - LJPRV', '5', '0', '5'], ['Yuvajana Sramika Rythu Congress Party - YSRCP', '4', '0', '4'], ['Rashtriya Janata Dal - RJD', '4', '0', '4'], ['Communist Party of India  (Marxist) - CPI(M)', '4', '0', '4'], ['Indian Union Muslim League - IUML', '3', '0', '3'], ['Aam Aadmi Party - AAAP', '3', '0', '3'], ['Jharkhand Mukti Morcha - JMM', '3', '0', '3'], ['Janasena Party - JnP', '2', '0', '2'], ['Communist Party of India  (Marxist-Leninist)  (Liberation) - CPI(ML)(L)', '2', '0', '2'], ['Janata Dal  (Secular) - JD(S)', '2', '0', '2'], ['Viduthalai Chiruthaigal Katchi - VCK', '2', '0', '2'], ['Communist Party of India - CPI', '2', '0', '2'], ['Rashtriya Lok Dal - RLD', '2', '0', '2'], ['Jammu & Kashmir National Conference - JKN', '2', '0', '2'], ['United People’s Party, Liberal - UPPL', '1', '0', '1'], ['Asom Gana Parishad - AGP', '1', '0', '1'], ['Hindustani Awam Morcha (Secular) - HAMS', '1', '0', '1'], ['Kerala Congress - KEC', '1', '0', '1'], ['Revolutionary Socialist Party - RSP', '1', '0', '1'], ['Nationalist Congress Party - NCP', '1', '0', '1'], ['Voice of the People Party - VOTPP', '1', '0', '1'], ['Zoram People’s Movement - ZPM', '1', '0', '1'], ['Shiromani Akali Dal - SAD', '1', '0', '1'], ['Rashtriya Loktantrik Party - RLTP', '1', '0', '1'], ['Bharat Adivasi Party - BHRTADVSIP', '1', '0', '1'], ['Sikkim Krantikari Morcha - SKM', '1', '0', '1'], ['Marumalarchi Dravida Munnetra Kazhagam - MDMK', '1', '0', '1'], ['Aazad Samaj Party (Kanshi Ram) - ASPKR', '1', '0', '1'], ['Apna Dal (Soneylal) - ADAL', '1', '0', '1'], ['AJSU Party - AJSUP', '1', '0', '1'], ['All India Majlis-E-Ittehadul Muslimeen - AIMIM', '1', '0', '1'], ['Independent - IND', '7', '0', '7'], []]\n"
     ]
    }
   ],
   "source": [
    "print(rows)"
   ]
  },
  {
   "cell_type": "code",
   "execution_count": 21,
   "id": "209c8618-b26e-4082-aa68-ede6005b8880",
   "metadata": {},
   "outputs": [],
   "source": [
    "df = pd.DataFrame(rows, columns=headers)"
   ]
  },
  {
   "cell_type": "code",
   "execution_count": 16,
   "id": "83925999-8c76-407a-bd6e-74205d87afae",
   "metadata": {},
   "outputs": [],
   "source": [
    "headers = ['Party', 'Won', 'Leading', 'Total']"
   ]
  },
  {
   "cell_type": "code",
   "execution_count": 17,
   "id": "6905fe67-9de6-4312-a5ed-fda7fd1af725",
   "metadata": {},
   "outputs": [],
   "source": [
    "df = pd.DataFrame(rows, columns=headers)"
   ]
  },
  {
   "cell_type": "markdown",
   "id": "a4e9a189-7a53-43eb-8665-e655518840e6",
   "metadata": {},
   "source": [
    "# We have at tabular data from the website (printed)"
   ]
  },
  {
   "cell_type": "code",
   "execution_count": 18,
   "id": "fdc30136-1eda-4440-8da4-3b607783c24f",
   "metadata": {
    "collapsed": true,
    "jupyter": {
     "outputs_hidden": true
    }
   },
   "outputs": [
    {
     "name": "stdout",
     "output_type": "stream",
     "text": [
      "                                                Party   Won Leading Total\n",
      "0                        Bharatiya Janata Party - BJP   240       0   240\n",
      "1                      Indian National Congress - INC    99       0    99\n",
      "2                                Samajwadi Party - SP    37       0    37\n",
      "3                 All India Trinamool Congress - AITC    29       0    29\n",
      "4                     Dravida Munnetra Kazhagam - DMK    22       0    22\n",
      "5                                  Telugu Desam - TDP    16       0    16\n",
      "6                        Janata Dal  (United) - JD(U)    12       0    12\n",
      "7      Shiv Sena (Uddhav Balasaheb Thackrey) - SHSUBT     9       0     9\n",
      "8   Nationalist Congress Party – Sharadchandra Paw...     8       0     8\n",
      "9                                     Shiv Sena - SHS     7       0     7\n",
      "10             Lok Janshakti Party(Ram Vilas) - LJPRV     5       0     5\n",
      "11      Yuvajana Sramika Rythu Congress Party - YSRCP     4       0     4\n",
      "12                         Rashtriya Janata Dal - RJD     4       0     4\n",
      "13       Communist Party of India  (Marxist) - CPI(M)     4       0     4\n",
      "14                  Indian Union Muslim League - IUML     3       0     3\n",
      "15                             Aam Aadmi Party - AAAP     3       0     3\n",
      "16                       Jharkhand Mukti Morcha - JMM     3       0     3\n",
      "17                               Janasena Party - JnP     2       0     2\n",
      "18  Communist Party of India  (Marxist-Leninist)  ...     2       0     2\n",
      "19                      Janata Dal  (Secular) - JD(S)     2       0     2\n",
      "20               Viduthalai Chiruthaigal Katchi - VCK     2       0     2\n",
      "21                     Communist Party of India - CPI     2       0     2\n",
      "22                            Rashtriya Lok Dal - RLD     2       0     2\n",
      "23          Jammu & Kashmir National Conference - JKN     2       0     2\n",
      "24              United People’s Party, Liberal - UPPL     1       0     1\n",
      "25                           Asom Gana Parishad - AGP     1       0     1\n",
      "26            Hindustani Awam Morcha (Secular) - HAMS     1       0     1\n",
      "27                              Kerala Congress - KEC     1       0     1\n",
      "28                Revolutionary Socialist Party - RSP     1       0     1\n",
      "29                   Nationalist Congress Party - NCP     1       0     1\n",
      "30                  Voice of the People Party - VOTPP     1       0     1\n",
      "31                      Zoram People’s Movement - ZPM     1       0     1\n",
      "32                          Shiromani Akali Dal - SAD     1       0     1\n",
      "33                  Rashtriya Loktantrik Party - RLTP     1       0     1\n",
      "34                  Bharat Adivasi Party - BHRTADVSIP     1       0     1\n",
      "35                     Sikkim Krantikari Morcha - SKM     1       0     1\n",
      "36      Marumalarchi Dravida Munnetra Kazhagam - MDMK     1       0     1\n",
      "37             Aazad Samaj Party (Kanshi Ram) - ASPKR     1       0     1\n",
      "38                         Apna Dal (Soneylal) - ADAL     1       0     1\n",
      "39                                 AJSU Party - AJSUP     1       0     1\n",
      "40     All India Majlis-E-Ittehadul Muslimeen - AIMIM     1       0     1\n",
      "41                                  Independent - IND     7       0     7\n",
      "42                                               None  None    None  None\n"
     ]
    }
   ],
   "source": [
    "print(df)"
   ]
  },
  {
   "cell_type": "code",
   "execution_count": 23,
   "id": "0b4270e6-7376-4d9f-951e-ba4998e39bc5",
   "metadata": {},
   "outputs": [],
   "source": [
    "df = pd.DataFrame(rows, columns=headers)"
   ]
  },
  {
   "cell_type": "code",
   "execution_count": 24,
   "id": "b54ca7a8-c423-49ff-95df-fecbc963da40",
   "metadata": {
    "collapsed": true,
    "jupyter": {
     "outputs_hidden": true,
     "source_hidden": true
    }
   },
   "outputs": [
    {
     "name": "stdout",
     "output_type": "stream",
     "text": [
      "                                                Party   Won Leading Total\n",
      "0                        Bharatiya Janata Party - BJP   240       0   240\n",
      "1                      Indian National Congress - INC    99       0    99\n",
      "2                                Samajwadi Party - SP    37       0    37\n",
      "3                 All India Trinamool Congress - AITC    29       0    29\n",
      "4                     Dravida Munnetra Kazhagam - DMK    22       0    22\n",
      "5                                  Telugu Desam - TDP    16       0    16\n",
      "6                        Janata Dal  (United) - JD(U)    12       0    12\n",
      "7      Shiv Sena (Uddhav Balasaheb Thackrey) - SHSUBT     9       0     9\n",
      "8   Nationalist Congress Party – Sharadchandra Paw...     8       0     8\n",
      "9                                     Shiv Sena - SHS     7       0     7\n",
      "10             Lok Janshakti Party(Ram Vilas) - LJPRV     5       0     5\n",
      "11      Yuvajana Sramika Rythu Congress Party - YSRCP     4       0     4\n",
      "12                         Rashtriya Janata Dal - RJD     4       0     4\n",
      "13       Communist Party of India  (Marxist) - CPI(M)     4       0     4\n",
      "14                  Indian Union Muslim League - IUML     3       0     3\n",
      "15                             Aam Aadmi Party - AAAP     3       0     3\n",
      "16                       Jharkhand Mukti Morcha - JMM     3       0     3\n",
      "17                               Janasena Party - JnP     2       0     2\n",
      "18  Communist Party of India  (Marxist-Leninist)  ...     2       0     2\n",
      "19                      Janata Dal  (Secular) - JD(S)     2       0     2\n",
      "20               Viduthalai Chiruthaigal Katchi - VCK     2       0     2\n",
      "21                     Communist Party of India - CPI     2       0     2\n",
      "22                            Rashtriya Lok Dal - RLD     2       0     2\n",
      "23          Jammu & Kashmir National Conference - JKN     2       0     2\n",
      "24              United People’s Party, Liberal - UPPL     1       0     1\n",
      "25                           Asom Gana Parishad - AGP     1       0     1\n",
      "26            Hindustani Awam Morcha (Secular) - HAMS     1       0     1\n",
      "27                              Kerala Congress - KEC     1       0     1\n",
      "28                Revolutionary Socialist Party - RSP     1       0     1\n",
      "29                   Nationalist Congress Party - NCP     1       0     1\n",
      "30                  Voice of the People Party - VOTPP     1       0     1\n",
      "31                      Zoram People’s Movement - ZPM     1       0     1\n",
      "32                          Shiromani Akali Dal - SAD     1       0     1\n",
      "33                  Rashtriya Loktantrik Party - RLTP     1       0     1\n",
      "34                  Bharat Adivasi Party - BHRTADVSIP     1       0     1\n",
      "35                     Sikkim Krantikari Morcha - SKM     1       0     1\n",
      "36      Marumalarchi Dravida Munnetra Kazhagam - MDMK     1       0     1\n",
      "37             Aazad Samaj Party (Kanshi Ram) - ASPKR     1       0     1\n",
      "38                         Apna Dal (Soneylal) - ADAL     1       0     1\n",
      "39                                 AJSU Party - AJSUP     1       0     1\n",
      "40     All India Majlis-E-Ittehadul Muslimeen - AIMIM     1       0     1\n",
      "41                                  Independent - IND     7       0     7\n",
      "42                                               None  None    None  None\n",
      "43                                              Total   543       0   543\n"
     ]
    }
   ],
   "source": [
    "print(df)"
   ]
  },
  {
   "cell_type": "markdown",
   "id": "d46b8ba8-f1b3-4765-8d75-2691f863743e",
   "metadata": {},
   "source": [
    "# The CSV File "
   ]
  },
  {
   "cell_type": "code",
   "execution_count": 25,
   "id": "10c36fb4-f3f3-4e24-a35d-d7df317a81c5",
   "metadata": {
    "collapsed": true,
    "jupyter": {
     "outputs_hidden": true
    }
   },
   "outputs": [
    {
     "ename": "EmptyDataError",
     "evalue": "No columns to parse from file",
     "output_type": "error",
     "traceback": [
      "\u001b[0;31m---------------------------------------------------------------------------\u001b[0m",
      "\u001b[0;31mEmptyDataError\u001b[0m                            Traceback (most recent call last)",
      "Cell \u001b[0;32mIn[25], line 4\u001b[0m\n\u001b[1;32m      1\u001b[0m \u001b[38;5;28;01mimport\u001b[39;00m \u001b[38;5;21;01mpandas\u001b[39;00m \u001b[38;5;28;01mas\u001b[39;00m \u001b[38;5;21;01mpd\u001b[39;00m\n\u001b[1;32m      3\u001b[0m \u001b[38;5;66;03m# Read the CSV file into a DataFrame\u001b[39;00m\n\u001b[0;32m----> 4\u001b[0m df \u001b[38;5;241m=\u001b[39m \u001b[43mpd\u001b[49m\u001b[38;5;241;43m.\u001b[39;49m\u001b[43mread_csv\u001b[49m\u001b[43m(\u001b[49m\u001b[38;5;124;43m'\u001b[39;49m\u001b[38;5;124;43melection_data.csv\u001b[39;49m\u001b[38;5;124;43m'\u001b[39;49m\u001b[43m)\u001b[49m\n\u001b[1;32m      6\u001b[0m \u001b[38;5;66;03m# Drop rows where any column contains 'None'\u001b[39;00m\n\u001b[1;32m      7\u001b[0m df \u001b[38;5;241m=\u001b[39m df\u001b[38;5;241m.\u001b[39mdropna()\n",
      "File \u001b[0;32m~/Library/jupyterlab-desktop/jlab_server/lib/python3.12/site-packages/pandas/io/parsers/readers.py:1026\u001b[0m, in \u001b[0;36mread_csv\u001b[0;34m(filepath_or_buffer, sep, delimiter, header, names, index_col, usecols, dtype, engine, converters, true_values, false_values, skipinitialspace, skiprows, skipfooter, nrows, na_values, keep_default_na, na_filter, verbose, skip_blank_lines, parse_dates, infer_datetime_format, keep_date_col, date_parser, date_format, dayfirst, cache_dates, iterator, chunksize, compression, thousands, decimal, lineterminator, quotechar, quoting, doublequote, escapechar, comment, encoding, encoding_errors, dialect, on_bad_lines, delim_whitespace, low_memory, memory_map, float_precision, storage_options, dtype_backend)\u001b[0m\n\u001b[1;32m   1013\u001b[0m kwds_defaults \u001b[38;5;241m=\u001b[39m _refine_defaults_read(\n\u001b[1;32m   1014\u001b[0m     dialect,\n\u001b[1;32m   1015\u001b[0m     delimiter,\n\u001b[0;32m   (...)\u001b[0m\n\u001b[1;32m   1022\u001b[0m     dtype_backend\u001b[38;5;241m=\u001b[39mdtype_backend,\n\u001b[1;32m   1023\u001b[0m )\n\u001b[1;32m   1024\u001b[0m kwds\u001b[38;5;241m.\u001b[39mupdate(kwds_defaults)\n\u001b[0;32m-> 1026\u001b[0m \u001b[38;5;28;01mreturn\u001b[39;00m \u001b[43m_read\u001b[49m\u001b[43m(\u001b[49m\u001b[43mfilepath_or_buffer\u001b[49m\u001b[43m,\u001b[49m\u001b[43m \u001b[49m\u001b[43mkwds\u001b[49m\u001b[43m)\u001b[49m\n",
      "File \u001b[0;32m~/Library/jupyterlab-desktop/jlab_server/lib/python3.12/site-packages/pandas/io/parsers/readers.py:620\u001b[0m, in \u001b[0;36m_read\u001b[0;34m(filepath_or_buffer, kwds)\u001b[0m\n\u001b[1;32m    617\u001b[0m _validate_names(kwds\u001b[38;5;241m.\u001b[39mget(\u001b[38;5;124m\"\u001b[39m\u001b[38;5;124mnames\u001b[39m\u001b[38;5;124m\"\u001b[39m, \u001b[38;5;28;01mNone\u001b[39;00m))\n\u001b[1;32m    619\u001b[0m \u001b[38;5;66;03m# Create the parser.\u001b[39;00m\n\u001b[0;32m--> 620\u001b[0m parser \u001b[38;5;241m=\u001b[39m \u001b[43mTextFileReader\u001b[49m\u001b[43m(\u001b[49m\u001b[43mfilepath_or_buffer\u001b[49m\u001b[43m,\u001b[49m\u001b[43m \u001b[49m\u001b[38;5;241;43m*\u001b[39;49m\u001b[38;5;241;43m*\u001b[39;49m\u001b[43mkwds\u001b[49m\u001b[43m)\u001b[49m\n\u001b[1;32m    622\u001b[0m \u001b[38;5;28;01mif\u001b[39;00m chunksize \u001b[38;5;129;01mor\u001b[39;00m iterator:\n\u001b[1;32m    623\u001b[0m     \u001b[38;5;28;01mreturn\u001b[39;00m parser\n",
      "File \u001b[0;32m~/Library/jupyterlab-desktop/jlab_server/lib/python3.12/site-packages/pandas/io/parsers/readers.py:1620\u001b[0m, in \u001b[0;36mTextFileReader.__init__\u001b[0;34m(self, f, engine, **kwds)\u001b[0m\n\u001b[1;32m   1617\u001b[0m     \u001b[38;5;28mself\u001b[39m\u001b[38;5;241m.\u001b[39moptions[\u001b[38;5;124m\"\u001b[39m\u001b[38;5;124mhas_index_names\u001b[39m\u001b[38;5;124m\"\u001b[39m] \u001b[38;5;241m=\u001b[39m kwds[\u001b[38;5;124m\"\u001b[39m\u001b[38;5;124mhas_index_names\u001b[39m\u001b[38;5;124m\"\u001b[39m]\n\u001b[1;32m   1619\u001b[0m \u001b[38;5;28mself\u001b[39m\u001b[38;5;241m.\u001b[39mhandles: IOHandles \u001b[38;5;241m|\u001b[39m \u001b[38;5;28;01mNone\u001b[39;00m \u001b[38;5;241m=\u001b[39m \u001b[38;5;28;01mNone\u001b[39;00m\n\u001b[0;32m-> 1620\u001b[0m \u001b[38;5;28mself\u001b[39m\u001b[38;5;241m.\u001b[39m_engine \u001b[38;5;241m=\u001b[39m \u001b[38;5;28;43mself\u001b[39;49m\u001b[38;5;241;43m.\u001b[39;49m\u001b[43m_make_engine\u001b[49m\u001b[43m(\u001b[49m\u001b[43mf\u001b[49m\u001b[43m,\u001b[49m\u001b[43m \u001b[49m\u001b[38;5;28;43mself\u001b[39;49m\u001b[38;5;241;43m.\u001b[39;49m\u001b[43mengine\u001b[49m\u001b[43m)\u001b[49m\n",
      "File \u001b[0;32m~/Library/jupyterlab-desktop/jlab_server/lib/python3.12/site-packages/pandas/io/parsers/readers.py:1898\u001b[0m, in \u001b[0;36mTextFileReader._make_engine\u001b[0;34m(self, f, engine)\u001b[0m\n\u001b[1;32m   1895\u001b[0m     \u001b[38;5;28;01mraise\u001b[39;00m \u001b[38;5;167;01mValueError\u001b[39;00m(msg)\n\u001b[1;32m   1897\u001b[0m \u001b[38;5;28;01mtry\u001b[39;00m:\n\u001b[0;32m-> 1898\u001b[0m     \u001b[38;5;28;01mreturn\u001b[39;00m \u001b[43mmapping\u001b[49m\u001b[43m[\u001b[49m\u001b[43mengine\u001b[49m\u001b[43m]\u001b[49m\u001b[43m(\u001b[49m\u001b[43mf\u001b[49m\u001b[43m,\u001b[49m\u001b[43m \u001b[49m\u001b[38;5;241;43m*\u001b[39;49m\u001b[38;5;241;43m*\u001b[39;49m\u001b[38;5;28;43mself\u001b[39;49m\u001b[38;5;241;43m.\u001b[39;49m\u001b[43moptions\u001b[49m\u001b[43m)\u001b[49m\n\u001b[1;32m   1899\u001b[0m \u001b[38;5;28;01mexcept\u001b[39;00m \u001b[38;5;167;01mException\u001b[39;00m:\n\u001b[1;32m   1900\u001b[0m     \u001b[38;5;28;01mif\u001b[39;00m \u001b[38;5;28mself\u001b[39m\u001b[38;5;241m.\u001b[39mhandles \u001b[38;5;129;01mis\u001b[39;00m \u001b[38;5;129;01mnot\u001b[39;00m \u001b[38;5;28;01mNone\u001b[39;00m:\n",
      "File \u001b[0;32m~/Library/jupyterlab-desktop/jlab_server/lib/python3.12/site-packages/pandas/io/parsers/c_parser_wrapper.py:93\u001b[0m, in \u001b[0;36mCParserWrapper.__init__\u001b[0;34m(self, src, **kwds)\u001b[0m\n\u001b[1;32m     90\u001b[0m \u001b[38;5;28;01mif\u001b[39;00m kwds[\u001b[38;5;124m\"\u001b[39m\u001b[38;5;124mdtype_backend\u001b[39m\u001b[38;5;124m\"\u001b[39m] \u001b[38;5;241m==\u001b[39m \u001b[38;5;124m\"\u001b[39m\u001b[38;5;124mpyarrow\u001b[39m\u001b[38;5;124m\"\u001b[39m:\n\u001b[1;32m     91\u001b[0m     \u001b[38;5;66;03m# Fail here loudly instead of in cython after reading\u001b[39;00m\n\u001b[1;32m     92\u001b[0m     import_optional_dependency(\u001b[38;5;124m\"\u001b[39m\u001b[38;5;124mpyarrow\u001b[39m\u001b[38;5;124m\"\u001b[39m)\n\u001b[0;32m---> 93\u001b[0m \u001b[38;5;28mself\u001b[39m\u001b[38;5;241m.\u001b[39m_reader \u001b[38;5;241m=\u001b[39m \u001b[43mparsers\u001b[49m\u001b[38;5;241;43m.\u001b[39;49m\u001b[43mTextReader\u001b[49m\u001b[43m(\u001b[49m\u001b[43msrc\u001b[49m\u001b[43m,\u001b[49m\u001b[43m \u001b[49m\u001b[38;5;241;43m*\u001b[39;49m\u001b[38;5;241;43m*\u001b[39;49m\u001b[43mkwds\u001b[49m\u001b[43m)\u001b[49m\n\u001b[1;32m     95\u001b[0m \u001b[38;5;28mself\u001b[39m\u001b[38;5;241m.\u001b[39munnamed_cols \u001b[38;5;241m=\u001b[39m \u001b[38;5;28mself\u001b[39m\u001b[38;5;241m.\u001b[39m_reader\u001b[38;5;241m.\u001b[39munnamed_cols\n\u001b[1;32m     97\u001b[0m \u001b[38;5;66;03m# error: Cannot determine type of 'names'\u001b[39;00m\n",
      "File \u001b[0;32mparsers.pyx:581\u001b[0m, in \u001b[0;36mpandas._libs.parsers.TextReader.__cinit__\u001b[0;34m()\u001b[0m\n",
      "\u001b[0;31mEmptyDataError\u001b[0m: No columns to parse from file"
     ]
    }
   ],
   "source": [
    "import pandas as pd\n",
    "\n",
    "# Read the CSV file into a DataFrame\n",
    "df = pd.read_csv('election_data.csv')\n",
    "\n",
    "# Drop rows where any column contains 'None'\n",
    "df = df.dropna()\n",
    "\n",
    "# Exclude the row where 'Total' is mentioned\n",
    "df = df[df['Party'] != 'Total']\n",
    "\n",
    "# Display the filtered DataFrame\n",
    "print(df)\n"
   ]
  },
  {
   "cell_type": "code",
   "execution_count": 26,
   "id": "a74ff08c-3f70-41ff-99a9-9774f565000c",
   "metadata": {},
   "outputs": [],
   "source": [
    "df=df.dropna()"
   ]
  },
  {
   "cell_type": "code",
   "execution_count": 27,
   "id": "88d9e71d-c408-4e04-a2ec-5fb03e70ee48",
   "metadata": {},
   "outputs": [
    {
     "name": "stdout",
     "output_type": "stream",
     "text": [
      "                                                Party  Won Leading Total\n",
      "0                        Bharatiya Janata Party - BJP  240       0   240\n",
      "1                      Indian National Congress - INC   99       0    99\n",
      "2                                Samajwadi Party - SP   37       0    37\n",
      "3                 All India Trinamool Congress - AITC   29       0    29\n",
      "4                     Dravida Munnetra Kazhagam - DMK   22       0    22\n",
      "5                                  Telugu Desam - TDP   16       0    16\n",
      "6                        Janata Dal  (United) - JD(U)   12       0    12\n",
      "7      Shiv Sena (Uddhav Balasaheb Thackrey) - SHSUBT    9       0     9\n",
      "8   Nationalist Congress Party – Sharadchandra Paw...    8       0     8\n",
      "9                                     Shiv Sena - SHS    7       0     7\n",
      "10             Lok Janshakti Party(Ram Vilas) - LJPRV    5       0     5\n",
      "11      Yuvajana Sramika Rythu Congress Party - YSRCP    4       0     4\n",
      "12                         Rashtriya Janata Dal - RJD    4       0     4\n",
      "13       Communist Party of India  (Marxist) - CPI(M)    4       0     4\n",
      "14                  Indian Union Muslim League - IUML    3       0     3\n",
      "15                             Aam Aadmi Party - AAAP    3       0     3\n",
      "16                       Jharkhand Mukti Morcha - JMM    3       0     3\n",
      "17                               Janasena Party - JnP    2       0     2\n",
      "18  Communist Party of India  (Marxist-Leninist)  ...    2       0     2\n",
      "19                      Janata Dal  (Secular) - JD(S)    2       0     2\n",
      "20               Viduthalai Chiruthaigal Katchi - VCK    2       0     2\n",
      "21                     Communist Party of India - CPI    2       0     2\n",
      "22                            Rashtriya Lok Dal - RLD    2       0     2\n",
      "23          Jammu & Kashmir National Conference - JKN    2       0     2\n",
      "24              United People’s Party, Liberal - UPPL    1       0     1\n",
      "25                           Asom Gana Parishad - AGP    1       0     1\n",
      "26            Hindustani Awam Morcha (Secular) - HAMS    1       0     1\n",
      "27                              Kerala Congress - KEC    1       0     1\n",
      "28                Revolutionary Socialist Party - RSP    1       0     1\n",
      "29                   Nationalist Congress Party - NCP    1       0     1\n",
      "30                  Voice of the People Party - VOTPP    1       0     1\n",
      "31                      Zoram People’s Movement - ZPM    1       0     1\n",
      "32                          Shiromani Akali Dal - SAD    1       0     1\n",
      "33                  Rashtriya Loktantrik Party - RLTP    1       0     1\n",
      "34                  Bharat Adivasi Party - BHRTADVSIP    1       0     1\n",
      "35                     Sikkim Krantikari Morcha - SKM    1       0     1\n",
      "36      Marumalarchi Dravida Munnetra Kazhagam - MDMK    1       0     1\n",
      "37             Aazad Samaj Party (Kanshi Ram) - ASPKR    1       0     1\n",
      "38                         Apna Dal (Soneylal) - ADAL    1       0     1\n",
      "39                                 AJSU Party - AJSUP    1       0     1\n",
      "40     All India Majlis-E-Ittehadul Muslimeen - AIMIM    1       0     1\n",
      "41                                  Independent - IND    7       0     7\n",
      "43                                              Total  543       0   543\n"
     ]
    }
   ],
   "source": [
    "print(df)"
   ]
  },
  {
   "cell_type": "code",
   "execution_count": 33,
   "id": "424212dd-9696-4e4a-a9ad-6d275685526f",
   "metadata": {},
   "outputs": [],
   "source": [
    "df.to_csv('election_results_kalvium.csv', index=False)"
   ]
  },
  {
   "cell_type": "code",
   "execution_count": 32,
   "id": "70dcfb99-4579-485c-a430-ff5cf2235e4f",
   "metadata": {},
   "outputs": [
    {
     "name": "stdout",
     "output_type": "stream",
     "text": [
      "Data saved to election_results_kalvium.csv\n"
     ]
    }
   ],
   "source": [
    "print(\"Data saved to election_results_kalvium.csv\")"
   ]
  },
  {
   "cell_type": "markdown",
   "id": "7573315d-6f82-43b4-9ce7-f8cb449e6cda",
   "metadata": {},
   "source": [
    "# Now bringing you some uselful insights from the election data\n",
    "## These insights shows the statistical representation of 2024 LokSabha Election result\n",
    "\n",
    "[Source](https://results.eci.gov.in/PcResultGenJune2024/index.htm)"
   ]
  },
  {
   "cell_type": "markdown",
   "id": "f234ad9f-9266-46c3-bebd-9284ed59e7d9",
   "metadata": {},
   "source": [
    "# Insights\n",
    "## winning partyy distribution\n"
   ]
  },
  {
   "cell_type": "code",
   "execution_count": 34,
   "id": "18bbb974-a7dc-440d-83c2-89d012d51b34",
   "metadata": {},
   "outputs": [
    {
     "name": "stdout",
     "output_type": "stream",
     "text": [
      "Party\n",
      "Bharatiya Janata Party - BJP                                               1\n",
      "Shiromani Akali Dal - SAD                                                  1\n",
      "United People’s Party, Liberal - UPPL                                      1\n",
      "Asom Gana Parishad - AGP                                                   1\n",
      "Hindustani Awam Morcha (Secular) - HAMS                                    1\n",
      "Kerala Congress - KEC                                                      1\n",
      "Revolutionary Socialist Party - RSP                                        1\n",
      "Nationalist Congress Party - NCP                                           1\n",
      "Voice of the People Party - VOTPP                                          1\n",
      "Zoram People’s Movement - ZPM                                              1\n",
      "Rashtriya Loktantrik Party - RLTP                                          1\n",
      "Rashtriya Lok Dal - RLD                                                    1\n",
      "Bharat Adivasi Party - BHRTADVSIP                                          1\n",
      "Sikkim Krantikari Morcha - SKM                                             1\n",
      "Marumalarchi Dravida Munnetra Kazhagam - MDMK                              1\n",
      "Aazad Samaj Party (Kanshi Ram) - ASPKR                                     1\n",
      "Apna Dal (Soneylal) - ADAL                                                 1\n",
      "AJSU Party - AJSUP                                                         1\n",
      "All India Majlis-E-Ittehadul Muslimeen - AIMIM                             1\n",
      "Independent - IND                                                          1\n",
      "Jammu & Kashmir National Conference - JKN                                  1\n",
      "Communist Party of India - CPI                                             1\n",
      "Indian National Congress - INC                                             1\n",
      "Lok Janshakti Party(Ram Vilas) - LJPRV                                     1\n",
      "Samajwadi Party - SP                                                       1\n",
      "All India Trinamool Congress - AITC                                        1\n",
      "Dravida Munnetra Kazhagam - DMK                                            1\n",
      "Telugu Desam - TDP                                                         1\n",
      "Janata Dal  (United) - JD(U)                                               1\n",
      "Shiv Sena (Uddhav Balasaheb Thackrey) - SHSUBT                             1\n",
      "Nationalist Congress Party – Sharadchandra Pawar - NCPSP                   1\n",
      "Shiv Sena - SHS                                                            1\n",
      "Yuvajana Sramika Rythu Congress Party - YSRCP                              1\n",
      "Viduthalai Chiruthaigal Katchi - VCK                                       1\n",
      "Rashtriya Janata Dal - RJD                                                 1\n",
      "Communist Party of India  (Marxist) - CPI(M)                               1\n",
      "Indian Union Muslim League - IUML                                          1\n",
      "Aam Aadmi Party - AAAP                                                     1\n",
      "Jharkhand Mukti Morcha - JMM                                               1\n",
      "Janasena Party - JnP                                                       1\n",
      "Communist Party of India  (Marxist-Leninist)  (Liberation) - CPI(ML)(L)    1\n",
      "Janata Dal  (Secular) - JD(S)                                              1\n",
      "Total                                                                      1\n",
      "Name: count, dtype: int64\n"
     ]
    }
   ],
   "source": [
    "\n",
    "winning_party_distribution = df['Party'].value_counts()\n",
    "print(winning_party_distribution)"
   ]
  },
  {
   "cell_type": "code",
   "execution_count": 36,
   "id": "7306d640-8253-4e29-a634-17db389c04bc",
   "metadata": {},
   "outputs": [],
   "source": [
    "df = pd.read_csv('election_results_kalvium.csv')\n"
   ]
  },
  {
   "cell_type": "markdown",
   "id": "80750d8a-c89d-4216-81e0-b62465ca06f7",
   "metadata": {},
   "source": [
    "# Insight 1\n",
    "## #Political Strength of Parties:"
   ]
  },
  {
   "cell_type": "code",
   "execution_count": 37,
   "id": "69b2c4f8-564c-4be3-a889-73432872e45e",
   "metadata": {},
   "outputs": [
    {
     "name": "stdout",
     "output_type": "stream",
     "text": [
      "1. Political Strength of Parties:\n",
      "                                                Party  Won  Leading  Total\n",
      "42                                              Total  543        0    543\n",
      "0                        Bharatiya Janata Party - BJP  240        0    240\n",
      "1                      Indian National Congress - INC   99        0     99\n",
      "2                                Samajwadi Party - SP   37        0     37\n",
      "3                 All India Trinamool Congress - AITC   29        0     29\n",
      "4                     Dravida Munnetra Kazhagam - DMK   22        0     22\n",
      "5                                  Telugu Desam - TDP   16        0     16\n",
      "6                        Janata Dal  (United) - JD(U)   12        0     12\n",
      "7      Shiv Sena (Uddhav Balasaheb Thackrey) - SHSUBT    9        0      9\n",
      "8   Nationalist Congress Party – Sharadchandra Paw...    8        0      8\n",
      "9                                     Shiv Sena - SHS    7        0      7\n",
      "41                                  Independent - IND    7        0      7\n",
      "10             Lok Janshakti Party(Ram Vilas) - LJPRV    5        0      5\n",
      "12                         Rashtriya Janata Dal - RJD    4        0      4\n",
      "13       Communist Party of India  (Marxist) - CPI(M)    4        0      4\n",
      "11      Yuvajana Sramika Rythu Congress Party - YSRCP    4        0      4\n",
      "14                  Indian Union Muslim League - IUML    3        0      3\n",
      "15                             Aam Aadmi Party - AAAP    3        0      3\n",
      "16                       Jharkhand Mukti Morcha - JMM    3        0      3\n",
      "23          Jammu & Kashmir National Conference - JKN    2        0      2\n",
      "22                            Rashtriya Lok Dal - RLD    2        0      2\n",
      "20               Viduthalai Chiruthaigal Katchi - VCK    2        0      2\n",
      "19                      Janata Dal  (Secular) - JD(S)    2        0      2\n",
      "17                               Janasena Party - JnP    2        0      2\n",
      "21                     Communist Party of India - CPI    2        0      2\n",
      "18  Communist Party of India  (Marxist-Leninist)  ...    2        0      2\n",
      "25                           Asom Gana Parishad - AGP    1        0      1\n",
      "26            Hindustani Awam Morcha (Secular) - HAMS    1        0      1\n",
      "40     All India Majlis-E-Ittehadul Muslimeen - AIMIM    1        0      1\n",
      "39                                 AJSU Party - AJSUP    1        0      1\n",
      "38                         Apna Dal (Soneylal) - ADAL    1        0      1\n",
      "37             Aazad Samaj Party (Kanshi Ram) - ASPKR    1        0      1\n",
      "36      Marumalarchi Dravida Munnetra Kazhagam - MDMK    1        0      1\n",
      "35                     Sikkim Krantikari Morcha - SKM    1        0      1\n",
      "34                  Bharat Adivasi Party - BHRTADVSIP    1        0      1\n",
      "33                  Rashtriya Loktantrik Party - RLTP    1        0      1\n",
      "24              United People’s Party, Liberal - UPPL    1        0      1\n",
      "31                      Zoram People’s Movement - ZPM    1        0      1\n",
      "30                  Voice of the People Party - VOTPP    1        0      1\n",
      "29                   Nationalist Congress Party - NCP    1        0      1\n",
      "28                Revolutionary Socialist Party - RSP    1        0      1\n",
      "27                              Kerala Congress - KEC    1        0      1\n",
      "32                          Shiromani Akali Dal - SAD    1        0      1\n"
     ]
    }
   ],
   "source": [
    "#Insight 1 from the df frame work\n",
    "political_strength = df.sort_values(by='Won', ascending=False)\n",
    "print(\"1. Political Strength of Parties:\")\n",
    "print(political_strength)"
   ]
  },
  {
   "cell_type": "markdown",
   "id": "f3660363-4d30-45c3-bc15-408e203f4a95",
   "metadata": {},
   "source": [
    "# Insight 2\n",
    "## Emerging Parties"
   ]
  },
  {
   "cell_type": "code",
   "execution_count": 38,
   "id": "a6adbc3d-b6e7-4760-a06c-5cbd10efeac7",
   "metadata": {},
   "outputs": [
    {
     "name": "stdout",
     "output_type": "stream",
     "text": [
      "\n",
      "2. Emerging Parties:\n",
      "10               Lok Janshakti Party(Ram Vilas) - LJPRV\n",
      "11        Yuvajana Sramika Rythu Congress Party - YSRCP\n",
      "12                           Rashtriya Janata Dal - RJD\n",
      "13         Communist Party of India  (Marxist) - CPI(M)\n",
      "14                    Indian Union Muslim League - IUML\n",
      "15                               Aam Aadmi Party - AAAP\n",
      "16                         Jharkhand Mukti Morcha - JMM\n",
      "17                                 Janasena Party - JnP\n",
      "18    Communist Party of India  (Marxist-Leninist)  ...\n",
      "19                        Janata Dal  (Secular) - JD(S)\n",
      "20                 Viduthalai Chiruthaigal Katchi - VCK\n",
      "21                       Communist Party of India - CPI\n",
      "22                              Rashtriya Lok Dal - RLD\n",
      "23            Jammu & Kashmir National Conference - JKN\n",
      "24                United People’s Party, Liberal - UPPL\n",
      "25                             Asom Gana Parishad - AGP\n",
      "26              Hindustani Awam Morcha (Secular) - HAMS\n",
      "27                                Kerala Congress - KEC\n",
      "28                  Revolutionary Socialist Party - RSP\n",
      "29                     Nationalist Congress Party - NCP\n",
      "30                    Voice of the People Party - VOTPP\n",
      "31                        Zoram People’s Movement - ZPM\n",
      "32                            Shiromani Akali Dal - SAD\n",
      "33                    Rashtriya Loktantrik Party - RLTP\n",
      "34                    Bharat Adivasi Party - BHRTADVSIP\n",
      "35                       Sikkim Krantikari Morcha - SKM\n",
      "36        Marumalarchi Dravida Munnetra Kazhagam - MDMK\n",
      "37               Aazad Samaj Party (Kanshi Ram) - ASPKR\n",
      "38                           Apna Dal (Soneylal) - ADAL\n",
      "39                                   AJSU Party - AJSUP\n",
      "40       All India Majlis-E-Ittehadul Muslimeen - AIMIM\n",
      "Name: Party, dtype: object\n"
     ]
    }
   ],
   "source": [
    "# 2. Emerging Parties\n",
    "emerging_parties = df[df['Won'] <= 5]['Party']\n",
    "print(\"\\n2. Emerging Parties:\")\n",
    "print(emerging_parties)\n"
   ]
  },
  {
   "cell_type": "markdown",
   "id": "6caf7de5-38c2-43f5-9d2a-42377fb4a61a",
   "metadata": {},
   "source": [
    "# Insight 3\n",
    "## Impact on Governance"
   ]
  },
  {
   "cell_type": "code",
   "execution_count": 40,
   "id": "ccbb5236-dfc7-47c6-9c0b-46634b8237d5",
   "metadata": {},
   "outputs": [
    {
     "name": "stdout",
     "output_type": "stream",
     "text": [
      "\n",
      "3. Impact on Governance:\n",
      "Total seats won across all parties: 1086\n",
      "Percentage share of seats by party:\n",
      "                                                Party  Percentage of Seats Won\n",
      "42                                              Total                50.000000\n",
      "0                        Bharatiya Janata Party - BJP                22.099448\n",
      "1                      Indian National Congress - INC                 9.116022\n",
      "2                                Samajwadi Party - SP                 3.406998\n",
      "3                 All India Trinamool Congress - AITC                 2.670350\n",
      "4                     Dravida Munnetra Kazhagam - DMK                 2.025783\n",
      "5                                  Telugu Desam - TDP                 1.473297\n",
      "6                        Janata Dal  (United) - JD(U)                 1.104972\n",
      "7      Shiv Sena (Uddhav Balasaheb Thackrey) - SHSUBT                 0.828729\n",
      "8   Nationalist Congress Party – Sharadchandra Paw...                 0.736648\n",
      "9                                     Shiv Sena - SHS                 0.644567\n",
      "41                                  Independent - IND                 0.644567\n",
      "10             Lok Janshakti Party(Ram Vilas) - LJPRV                 0.460405\n",
      "12                         Rashtriya Janata Dal - RJD                 0.368324\n",
      "13       Communist Party of India  (Marxist) - CPI(M)                 0.368324\n",
      "11      Yuvajana Sramika Rythu Congress Party - YSRCP                 0.368324\n",
      "14                  Indian Union Muslim League - IUML                 0.276243\n",
      "15                             Aam Aadmi Party - AAAP                 0.276243\n",
      "16                       Jharkhand Mukti Morcha - JMM                 0.276243\n",
      "23          Jammu & Kashmir National Conference - JKN                 0.184162\n",
      "22                            Rashtriya Lok Dal - RLD                 0.184162\n",
      "20               Viduthalai Chiruthaigal Katchi - VCK                 0.184162\n",
      "19                      Janata Dal  (Secular) - JD(S)                 0.184162\n",
      "17                               Janasena Party - JnP                 0.184162\n",
      "21                     Communist Party of India - CPI                 0.184162\n",
      "18  Communist Party of India  (Marxist-Leninist)  ...                 0.184162\n",
      "25                           Asom Gana Parishad - AGP                 0.092081\n",
      "26            Hindustani Awam Morcha (Secular) - HAMS                 0.092081\n",
      "40     All India Majlis-E-Ittehadul Muslimeen - AIMIM                 0.092081\n",
      "39                                 AJSU Party - AJSUP                 0.092081\n",
      "38                         Apna Dal (Soneylal) - ADAL                 0.092081\n",
      "37             Aazad Samaj Party (Kanshi Ram) - ASPKR                 0.092081\n",
      "36      Marumalarchi Dravida Munnetra Kazhagam - MDMK                 0.092081\n",
      "35                     Sikkim Krantikari Morcha - SKM                 0.092081\n",
      "34                  Bharat Adivasi Party - BHRTADVSIP                 0.092081\n",
      "33                  Rashtriya Loktantrik Party - RLTP                 0.092081\n",
      "24              United People’s Party, Liberal - UPPL                 0.092081\n",
      "31                      Zoram People’s Movement - ZPM                 0.092081\n",
      "30                  Voice of the People Party - VOTPP                 0.092081\n",
      "29                   Nationalist Congress Party - NCP                 0.092081\n",
      "28                Revolutionary Socialist Party - RSP                 0.092081\n",
      "27                              Kerala Congress - KEC                 0.092081\n",
      "32                          Shiromani Akali Dal - SAD                 0.092081\n"
     ]
    }
   ],
   "source": [
    "#Insight no 3. Impact on Governance\n",
    "\n",
    "total_seats = df['Won'].sum()\n",
    "party_share = df[['Party', 'Won']].copy()\n",
    "party_share['Percentage of Seats Won'] = (party_share['Won'] / total_seats) * 100\n",
    "party_share_sorted = party_share.sort_values(by='Percentage of Seats Won', ascending=False)\n",
    "\n",
    "print(\"\\n3. Impact on Governance:\")\n",
    "print(f\"Total seats won across all parties: {total_seats}\")\n",
    "print(\"Percentage share of seats by party:\")\n",
    "print(party_share_sorted[['Party', 'Percentage of Seats Won']])\n"
   ]
  },
  {
   "cell_type": "code",
   "execution_count": 43,
   "id": "13318073-13a0-493e-b812-108c9fb0b5d1",
   "metadata": {},
   "outputs": [],
   "source": [
    "#importing the statewise data into a new table\n",
    "\n",
    "#fetching the url of the table web page\n",
    "\n",
    "\n",
    "url2='https://results.eci.gov.in/PcResultGenJune2024/partywiseresult-S24.htm'\n",
    "page2 = requests.get(url2)\n",
    "soup2= BeautifulSoup(page2.text,'html')"
   ]
  },
  {
   "cell_type": "markdown",
   "id": "32f377ca-65b9-4137-b980-0899d2091db4",
   "metadata": {},
   "source": [
    "**Fetching State Election data**\n",
    "- UttarPradesh"
   ]
  },
  {
   "cell_type": "code",
   "execution_count": 44,
   "id": "c2c56453-9ec9-4d68-a619-d1396a73344c",
   "metadata": {},
   "outputs": [],
   "source": [
    "#importing the table into table2 from the web\n",
    "table2 = soup2.find('table', {'class': 'table'})"
   ]
  },
  {
   "cell_type": "code",
   "execution_count": 58,
   "id": "965e4260-1ddb-4db7-b413-e74cb86b64eb",
   "metadata": {},
   "outputs": [],
   "source": [
    "headers2 = ['Party', 'Won', 'Leading', 'Total']"
   ]
  },
  {
   "cell_type": "code",
   "execution_count": 55,
   "id": "e52dd9f2-82d3-45aa-9b81-8116478361a6",
   "metadata": {},
   "outputs": [],
   "source": [
    "rows2 = []\n",
    "for row in table2.find_all('tr')[1:]:  # Skip the header row\n",
    "    cells = row.find_all('td')\n",
    "    row_data = [cell.text.strip() for cell in cells]\n",
    "    rows2.append(row_data)"
   ]
  },
  {
   "cell_type": "code",
   "execution_count": 56,
   "id": "60d58bd0-8549-460a-bce6-6bf2e472f048",
   "metadata": {},
   "outputs": [
    {
     "name": "stdout",
     "output_type": "stream",
     "text": [
      "[['Samajwadi Party - SP', '37', '0', '37'], ['Bharatiya Janata Party - BJP', '33', '0', '33'], ['Indian National Congress - INC', '6', '0', '6'], ['Rashtriya Lok Dal - RLD', '2', '0', '2'], ['Aazad Samaj Party (Kanshi Ram) - ASPKR', '1', '0', '1'], ['Apna Dal (Soneylal) - ADAL', '1', '0', '1'], []]\n"
     ]
    }
   ],
   "source": [
    "print(rows2)"
   ]
  },
  {
   "cell_type": "code",
   "execution_count": null,
   "id": "b50f5df6-12e7-4c46-929a-34f0a81490af",
   "metadata": {},
   "outputs": [],
   "source": [
    "#Alriht now we have the rows2 and columns2"
   ]
  },
  {
   "cell_type": "code",
   "execution_count": 61,
   "id": "cf812c86-b8ae-4f7e-975c-e16b2d1db5f1",
   "metadata": {},
   "outputs": [],
   "source": [
    "#So now let us create a panda dataframe df2 using the above rows and columns\n",
    "df2 = pd.DataFrame(rows2, columns=headers2)\n"
   ]
  },
  {
   "cell_type": "code",
   "execution_count": 62,
   "id": "a662ad12-e29a-4387-8006-e714f3f58699",
   "metadata": {},
   "outputs": [
    {
     "name": "stdout",
     "output_type": "stream",
     "text": [
      "                                    Party   Won Leading Total\n",
      "0                    Samajwadi Party - SP    37       0    37\n",
      "1            Bharatiya Janata Party - BJP    33       0    33\n",
      "2          Indian National Congress - INC     6       0     6\n",
      "3                 Rashtriya Lok Dal - RLD     2       0     2\n",
      "4  Aazad Samaj Party (Kanshi Ram) - ASPKR     1       0     1\n",
      "5              Apna Dal (Soneylal) - ADAL     1       0     1\n",
      "6                                    None  None    None  None\n"
     ]
    }
   ],
   "source": [
    "print(df2)"
   ]
  },
  {
   "cell_type": "code",
   "execution_count": 63,
   "id": "687c9550-eaa7-448e-9152-f8547db9bfc0",
   "metadata": {},
   "outputs": [],
   "source": [
    "# this data drame dose'nt contain the totals and we have to also remove the none rows\n",
    "\n",
    "#to remove none rows\n",
    "df2=df2.dropna()\n"
   ]
  },
  {
   "cell_type": "code",
   "execution_count": 66,
   "id": "e2f7582d-e59f-473b-9848-2914c0d4ce89",
   "metadata": {},
   "outputs": [],
   "source": [
    "tfoot2 = table2.find('tfoot')\n",
    "if tfoot2:\n",
    "    total_row2 = tfoot2.find('tr')\n",
    "    total_cells2 = total_row2.find_all('th') if total_row2 else []\n",
    "    total_data2 = [cell.text.strip() for cell in total_cells2]\n",
    "    if len(total_data2) == len(headers2):\n",
    "        rows2.append(total_data2)"
   ]
  },
  {
   "cell_type": "code",
   "execution_count": 67,
   "id": "28ad2339-0a16-4207-b827-25044772de6c",
   "metadata": {},
   "outputs": [],
   "source": [
    "#So now let us create a panda dataframe df2 using the above rows and columns\n",
    "df2 = pd.DataFrame(rows2, columns=headers2)\n"
   ]
  },
  {
   "cell_type": "code",
   "execution_count": 68,
   "id": "51a776f7-e2ca-4f6b-8ac2-395d021a3d5b",
   "metadata": {
    "collapsed": true,
    "jupyter": {
     "outputs_hidden": true
    }
   },
   "outputs": [
    {
     "name": "stdout",
     "output_type": "stream",
     "text": [
      "                                    Party   Won Leading Total\n",
      "0                    Samajwadi Party - SP    37       0    37\n",
      "1            Bharatiya Janata Party - BJP    33       0    33\n",
      "2          Indian National Congress - INC     6       0     6\n",
      "3                 Rashtriya Lok Dal - RLD     2       0     2\n",
      "4  Aazad Samaj Party (Kanshi Ram) - ASPKR     1       0     1\n",
      "5              Apna Dal (Soneylal) - ADAL     1       0     1\n",
      "6                                    None  None    None  None\n",
      "7                                   Total    80       0    80\n"
     ]
    }
   ],
   "source": [
    "print(df2)"
   ]
  },
  {
   "cell_type": "code",
   "execution_count": 69,
   "id": "bfabd155-9c13-4327-b5ad-9e9006f28f49",
   "metadata": {},
   "outputs": [],
   "source": [
    "df2=df2.dropna()"
   ]
  },
  {
   "cell_type": "code",
   "execution_count": 70,
   "id": "c899f8cc-3382-4add-a333-5ae5e8d510c0",
   "metadata": {},
   "outputs": [
    {
     "name": "stdout",
     "output_type": "stream",
     "text": [
      "                                    Party Won Leading Total\n",
      "0                    Samajwadi Party - SP  37       0    37\n",
      "1            Bharatiya Janata Party - BJP  33       0    33\n",
      "2          Indian National Congress - INC   6       0     6\n",
      "3                 Rashtriya Lok Dal - RLD   2       0     2\n",
      "4  Aazad Samaj Party (Kanshi Ram) - ASPKR   1       0     1\n",
      "5              Apna Dal (Soneylal) - ADAL   1       0     1\n",
      "7                                   Total  80       0    80\n"
     ]
    }
   ],
   "source": [
    "print(df2)"
   ]
  },
  {
   "cell_type": "code",
   "execution_count": 71,
   "id": "143905ef-7396-474a-83de-72872d77bebc",
   "metadata": {},
   "outputs": [],
   "source": [
    "#Bravo now it's time for the fedw insights\n",
    "\n",
    "#importing data to an csv file\n",
    "df2.to_csv('uttarpradesh_loksabha.csv', index=False)"
   ]
  },
  {
   "cell_type": "code",
   "execution_count": 75,
   "id": "82f63479-ba15-4407-b950-d2dd9a0cc790",
   "metadata": {},
   "outputs": [],
   "source": [
    "df2 = pd.read_csv('uttarpradesh_loksabha.csv')"
   ]
  },
  {
   "cell_type": "markdown",
   "id": "bcceb043-7e0a-4306-9ba2-fc63deeb2287",
   "metadata": {},
   "source": [
    "# Insight 4\n",
    "## Political landshcape impact"
   ]
  },
  {
   "cell_type": "code",
   "execution_count": 81,
   "id": "843b74fe-ddec-474c-8f2d-cfdf840d5fb0",
   "metadata": {},
   "outputs": [
    {
     "name": "stdout",
     "output_type": "stream",
     "text": [
      "\n",
      "3. Impact on Governance:\n",
      "Total seats won across all parties: 160\n",
      "Percentage share of seats by party:\n",
      "                                    Party  Percentage of Seats Won\n",
      "6                                   Total                   50.000\n",
      "0                    Samajwadi Party - SP                   23.125\n",
      "1            Bharatiya Janata Party - BJP                   20.625\n",
      "2          Indian National Congress - INC                    3.750\n",
      "3                 Rashtriya Lok Dal - RLD                    1.250\n",
      "4  Aazad Samaj Party (Kanshi Ram) - ASPKR                    0.625\n",
      "5              Apna Dal (Soneylal) - ADAL                    0.625\n"
     ]
    }
   ],
   "source": [
    "#insight 4\n",
    "\n",
    "#Political landshcape impact\n",
    "total_seats = df2['Won'].sum()\n",
    "party_share = df2[['Party', 'Won']].copy()\n",
    "party_share['Percentage of Seats Won'] = (party_share['Won'] / total_seats) * 100\n",
    "party_share_sorted = party_share.sort_values(by='Percentage of Seats Won', ascending=False)\n",
    "\n",
    "print(\"\\n3. Impact on Governance:\")\n",
    "print(f\"Total seats won across all parties: {total_seats}\")\n",
    "print(\"Percentage share of seats by party:\")\n",
    "print(party_share_sorted[['Party', 'Percentage of Seats Won']])"
   ]
  },
  {
   "cell_type": "markdown",
   "id": "8f9e88e9-2252-42ee-8da3-5f91ffd058a3",
   "metadata": {},
   "source": [
    "# Insight 5\n",
    "## Representation and Diversity"
   ]
  },
  {
   "cell_type": "code",
   "execution_count": 82,
   "id": "3a06cfd6-67a9-4d30-b8e5-17717d5b48ac",
   "metadata": {},
   "outputs": [
    {
     "name": "stdout",
     "output_type": "stream",
     "text": [
      "\n",
      "5. Representation and Diversity:\n",
      "Total number of parties contested: 6\n",
      "Number of parties winning seats: 7\n",
      "Number of parties winning majority (>50% seats): 0\n"
     ]
    }
   ],
   "source": [
    "# Representation and Diversity\n",
    "total_parties = df2.shape[0] - 1  # Exclude the 'Total' row\n",
    "leading_parties = df2[df2['Won'] > 0]\n",
    "majority_parties = leading_parties[leading_parties['Won'] > total_seats / 2]\n",
    "\n",
    "print(\"\\n5. Representation and Diversity:\")\n",
    "print(f\"Total number of parties contested: {total_parties}\")\n",
    "print(f\"Number of parties winning seats: {leading_parties.shape[0]}\")\n",
    "print(f\"Number of parties winning majority (>50% seats): {majority_parties.shape[0]}\")\n"
   ]
  },
  {
   "cell_type": "markdown",
   "id": "cd9da333-ee56-479b-9982-1183337ded5f",
   "metadata": {},
   "source": [
    "# Insight 6\n",
    "## Voter Turnout and Engagement"
   ]
  },
  {
   "cell_type": "code",
   "execution_count": 83,
   "id": "e63b80a6-d3c9-4259-964e-29b331ef1517",
   "metadata": {},
   "outputs": [
    {
     "name": "stdout",
     "output_type": "stream",
     "text": [
      "\n",
      "6. Voter Turnout and Engagement:\n",
      "Total seats won across all parties: 160\n",
      "Total number of voters: 1000000\n",
      "Estimated voter turnout: 0.02%\n"
     ]
    }
   ],
   "source": [
    "# Voter Turnout and Engagement\n",
    "total_seats = df2['Won'].sum()\n",
    "total_voters = 1000000  # Replace with actual total number of voters if available\n",
    "voter_turnout = (total_seats / total_voters) * 100\n",
    "\n",
    "print(\"\\n6. Voter Turnout and Engagement:\")\n",
    "print(f\"Total seats won across all parties: {total_seats}\")\n",
    "print(f\"Total number of voters: {total_voters}\")\n",
    "print(f\"Estimated voter turnout: {voter_turnout:.2f}%\")\n"
   ]
  },
  {
   "cell_type": "markdown",
   "id": "97d3a746-28ef-4d6a-ad55-5f230c3b9afb",
   "metadata": {},
   "source": [
    "# Insight 7\n",
    "## Comparing National and State Data"
   ]
  },
  {
   "cell_type": "code",
   "execution_count": 87,
   "id": "b8d4f325-d3e8-4229-9c4f-e1ede5c31d12",
   "metadata": {},
   "outputs": [
    {
     "name": "stdout",
     "output_type": "stream",
     "text": [
      "\n",
      "Comparison of Results - National vs Uttar Pradesh:\n",
      "                                    Party  Won_National  Won_Uttar_Pradesh\n",
      "6                                   Total           543                 80\n",
      "2                    Samajwadi Party - SP            37                 37\n",
      "0            Bharatiya Janata Party - BJP           240                 33\n",
      "1          Indian National Congress - INC            99                  6\n",
      "3                 Rashtriya Lok Dal - RLD             2                  2\n",
      "4  Aazad Samaj Party (Kanshi Ram) - ASPKR             1                  1\n",
      "5              Apna Dal (Soneylal) - ADAL             1                  1\n"
     ]
    }
   ],
   "source": [
    "#Insight 7\n",
    "\n",
    "#Comparing National and State Data\n",
    "\n",
    "df1 = df[df['Party'] != 'Total']\n",
    "\n",
    "# Select relevant columns for comparison\n",
    "df1_selected = df[['Party', 'Won']].copy()\n",
    "df2_selected = df2[['Party', 'Won']].copy()\n",
    "\n",
    "# Merge dataframes on 'Party' to compare results\n",
    "merged_results = pd.merge(df1_selected, df2_selected, on='Party', suffixes=('_National', '_Uttar_Pradesh'))\n",
    "\n",
    "# Sort by seats won in Uttar Pradesh descending\n",
    "merged_results_sorted = merged_results.sort_values(by='Won_Uttar_Pradesh', ascending=False)\n",
    "\n",
    "print(\"\\nComparison of Results - National vs Uttar Pradesh:\")\n",
    "print(merged_results_sorted)"
   ]
  },
  {
   "cell_type": "markdown",
   "id": "53352dd5-2578-402b-ac31-eb36822caddc",
   "metadata": {},
   "source": [
    "# Insight 8\n",
    "# Categorize parties based on total seats won"
   ]
  },
  {
   "cell_type": "code",
   "execution_count": 88,
   "id": "24a1e1d7-1c69-4eaf-ad4a-c92c1ef90a7d",
   "metadata": {},
   "outputs": [
    {
     "name": "stdout",
     "output_type": "stream",
     "text": [
      "\n",
      "Distribution of Seats Won by Party Category:\n",
      "Category\n",
      "New Entrant    39\n",
      "Minor Party     7\n",
      "Major Party     3\n",
      "Name: count, dtype: int64\n"
     ]
    }
   ],
   "source": [
    "#Insight 8\n",
    "\n",
    "# Categorize parties based on total seats won\n",
    "major_parties_threshold = 50  # Example threshold for major parties\n",
    "minor_parties_threshold = 10  # Example threshold for minor parties\n",
    "\n",
    "def categorize_party(row):\n",
    "    if row['Won'] >= major_parties_threshold:\n",
    "        return 'Major Party'\n",
    "    elif row['Won'] >= minor_parties_threshold:\n",
    "        return 'Minor Party'\n",
    "    else:\n",
    "        return 'New Entrant'\n",
    "\n",
    "df_combined = pd.concat([df1, df2]).reset_index(drop=True)\n",
    "df_combined['Category'] = df_combined.apply(categorize_party, axis=1)\n",
    "\n",
    "# Count and display distribution\n",
    "party_category_counts = df_combined['Category'].value_counts()\n",
    "\n",
    "print(\"\\nDistribution of Seats Won by Party Category:\")\n",
    "print(party_category_counts)\n"
   ]
  },
  {
   "cell_type": "markdown",
   "id": "1ff7da9e-67ee-42ba-9c1b-99d78205a26b",
   "metadata": {},
   "source": [
    "# Insight 9\n",
    "## Select top parties from both datasets for comparison"
   ]
  },
  {
   "cell_type": "code",
   "execution_count": 89,
   "id": "e4ed0133-3bcb-4814-8f22-89a10e6fc856",
   "metadata": {},
   "outputs": [
    {
     "name": "stdout",
     "output_type": "stream",
     "text": [
      "\n",
      "Comparative Performance of Top Parties - National vs Uttar Pradesh:\n",
      "                            Party  Won_National  Won_Uttar_Pradesh\n",
      "0    Bharatiya Janata Party - BJP           240                 33\n",
      "1  Indian National Congress - INC            99                  6\n",
      "2            Samajwadi Party - SP            37                 37\n"
     ]
    }
   ],
   "source": [
    "#Insight 9\n",
    "\n",
    "# Select top parties from both datasets for comparison\n",
    "top_parties_national = df1.nlargest(5, 'Won')\n",
    "top_parties_up = df2.nlargest(5, 'Won')\n",
    "\n",
    "# Merge and compare top parties\n",
    "merged_top_parties = pd.merge(top_parties_national, top_parties_up, on='Party', suffixes=('_National', '_Uttar_Pradesh'))\n",
    "\n",
    "print(\"\\nComparative Performance of Top Parties - National vs Uttar Pradesh:\")\n",
    "print(merged_top_parties[['Party', 'Won_National', 'Won_Uttar_Pradesh']])\n"
   ]
  },
  {
   "cell_type": "markdown",
   "id": "9174a8ba-607d-431d-bb19-329ad76a3f21",
   "metadata": {},
   "source": [
    "# Insight 10\n",
    "## Hypthetical insight \n",
    "- Hypothetical previous election results (example)\n"
   ]
  },
  {
   "cell_type": "code",
   "execution_count": 90,
   "id": "11793689-e645-48cb-a46a-6daea60187d3",
   "metadata": {},
   "outputs": [
    {
     "name": "stdout",
     "output_type": "stream",
     "text": [
      "\n",
      "Change in Party Performance from Previous Elections:\n",
      "                                    Party  Won  Seats_Won_Previous  \\\n",
      "0                    Samajwadi Party - SP   37                40.0   \n",
      "2          Indian National Congress - INC    6               110.0   \n",
      "1            Bharatiya Janata Party - BJP   33               200.0   \n",
      "3                 Rashtriya Lok Dal - RLD    2                 NaN   \n",
      "4  Aazad Samaj Party (Kanshi Ram) - ASPKR    1                 NaN   \n",
      "5              Apna Dal (Soneylal) - ADAL    1                 NaN   \n",
      "6                                   Total   80                 NaN   \n",
      "\n",
      "   Change_in_Seats  \n",
      "0             -3.0  \n",
      "2           -104.0  \n",
      "1           -167.0  \n",
      "3              NaN  \n",
      "4              NaN  \n",
      "5              NaN  \n",
      "6              NaN  \n"
     ]
    }
   ],
   "source": [
    "#Insight 10\n",
    "\n",
    "#Hypthetical insight\n",
    "# Hypothetical previous election results (example)\n",
    "previous_results = {\n",
    "    'Party': ['Bharatiya Janata Party - BJP', 'Indian National Congress - INC', 'Samajwadi Party - SP', 'Other Parties'],\n",
    "    'Seats_Won_Previous': [200, 110, 40, 193]  # Example hypothetical previous election results\n",
    "}\n",
    "\n",
    "# Create a DataFrame for previous results\n",
    "df_previous = pd.DataFrame(previous_results)\n",
    "\n",
    "# Merge with current datasets to compare\n",
    "merged_insight = pd.merge(df2, df_previous, on='Party', how='left')\n",
    "merged_insight['Change_in_Seats'] = merged_insight['Won'] - merged_insight['Seats_Won_Previous']\n",
    "\n",
    "# Sort by change in seats to see parties with most significant changes\n",
    "sorted_insight = merged_insight.sort_values(by='Change_in_Seats', ascending=False)\n",
    "\n",
    "print(\"\\nChange in Party Performance from Previous Elections:\")\n",
    "print(sorted_insight[['Party', 'Won', 'Seats_Won_Previous', 'Change_in_Seats']])\n",
    "\n"
   ]
  },
  {
   "cell_type": "code",
   "execution_count": null,
   "id": "d7d0015b-0e77-4041-8680-ba6f985534ed",
   "metadata": {},
   "outputs": [],
   "source": []
  }
 ],
 "metadata": {
  "kernelspec": {
   "display_name": "Python 3 (ipykernel)",
   "language": "python",
   "name": "python3"
  },
  "language_info": {
   "codemirror_mode": {
    "name": "ipython",
    "version": 3
   },
   "file_extension": ".py",
   "mimetype": "text/x-python",
   "name": "python",
   "nbconvert_exporter": "python",
   "pygments_lexer": "ipython3",
   "version": "3.12.3"
  }
 },
 "nbformat": 4,
 "nbformat_minor": 5
}
